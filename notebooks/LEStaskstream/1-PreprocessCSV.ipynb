{
 "cells": [
  {
   "cell_type": "markdown",
   "id": "0fafcc0c-3fe5-42ff-91df-b4e7b8532a28",
   "metadata": {},
   "source": [
    "# Organize data from CSV to PKL\n",
    "\n",
    "1. Load the CSV file containing P, T and XYZ atributes\n",
    "2. Filter only the X coordinates for the midpoint along the Z axism i.e. $\\approx 0.145$m\n",
    "3. Build a dict with Time, X coordinates and Pressure."
   ]
  },
  {
   "cell_type": "code",
   "execution_count": 1,
   "id": "e3e364c1-da40-4080-b2df-28ea6ece61b0",
   "metadata": {},
   "outputs": [],
   "source": [
    "import numpy as np\n",
    "import pandas as pd\n",
    "import pickle \n",
    "from os import system"
   ]
  },
  {
   "cell_type": "code",
   "execution_count": 2,
   "id": "fdc039ce-d102-4be4-88c6-2a55c04df773",
   "metadata": {},
   "outputs": [],
   "source": [
    "# File paths\n",
    "FOLDER = \"./organizedData_constg\"\n",
    "PFILE = f\"{FOLDER}/p.txt\"\n",
    "TFILE = f\"{FOLDER}/time.txt\"\n",
    "XFILE = f\"{FOLDER}/xyz.txt\""
   ]
  },
  {
   "cell_type": "code",
   "execution_count": 3,
   "id": "9878b22f-d6ec-40e8-8a84-058ff515fcb7",
   "metadata": {},
   "outputs": [],
   "source": [
    "# Load files\n",
    "X = pd.read_csv(XFILE,sep=\" \",names=['X','Y','Z'])\n",
    "T = pd.read_csv(TFILE,delimiter=\" \",header=None)\n",
    "P = pd.read_csv(PFILE,delimiter=\" \",header=None)"
   ]
  },
  {
   "cell_type": "code",
   "execution_count": 4,
   "id": "27e9b27d-e76b-48d7-932b-dfaea60498aa",
   "metadata": {},
   "outputs": [
    {
     "data": {
      "text/html": [
       "<div>\n",
       "<style scoped>\n",
       "    .dataframe tbody tr th:only-of-type {\n",
       "        vertical-align: middle;\n",
       "    }\n",
       "\n",
       "    .dataframe tbody tr th {\n",
       "        vertical-align: top;\n",
       "    }\n",
       "\n",
       "    .dataframe thead th {\n",
       "        text-align: right;\n",
       "    }\n",
       "</style>\n",
       "<table border=\"1\" class=\"dataframe\">\n",
       "  <thead>\n",
       "    <tr style=\"text-align: right;\">\n",
       "      <th></th>\n",
       "      <th>X</th>\n",
       "      <th>Y</th>\n",
       "      <th>Z</th>\n",
       "    </tr>\n",
       "  </thead>\n",
       "  <tbody>\n",
       "    <tr>\n",
       "      <th>7</th>\n",
       "      <td>0.000000</td>\n",
       "      <td>0.000000</td>\n",
       "      <td>0.135333</td>\n",
       "    </tr>\n",
       "    <tr>\n",
       "      <th>23</th>\n",
       "      <td>0.003037</td>\n",
       "      <td>0.000495</td>\n",
       "      <td>0.135333</td>\n",
       "    </tr>\n",
       "    <tr>\n",
       "      <th>39</th>\n",
       "      <td>0.006063</td>\n",
       "      <td>0.001056</td>\n",
       "      <td>0.135333</td>\n",
       "    </tr>\n",
       "    <tr>\n",
       "      <th>55</th>\n",
       "      <td>0.009079</td>\n",
       "      <td>0.001667</td>\n",
       "      <td>0.135333</td>\n",
       "    </tr>\n",
       "    <tr>\n",
       "      <th>71</th>\n",
       "      <td>0.012088</td>\n",
       "      <td>0.002313</td>\n",
       "      <td>0.135333</td>\n",
       "    </tr>\n",
       "  </tbody>\n",
       "</table>\n",
       "</div>"
      ],
      "text/plain": [
       "           X         Y         Z\n",
       "7   0.000000  0.000000  0.135333\n",
       "23  0.003037  0.000495  0.135333\n",
       "39  0.006063  0.001056  0.135333\n",
       "55  0.009079  0.001667  0.135333\n",
       "71  0.012088  0.002313  0.135333"
      ]
     },
     "execution_count": 4,
     "metadata": {},
     "output_type": "execute_result"
    }
   ],
   "source": [
    "# Filter X-Coordinaes by Z-axis\n",
    "xCoords = pd.DataFrame(X[(X['Z']>0.13) & (X['Z']<0.15)][['X','Y','Z']])\n",
    "xCoords.head()"
   ]
  },
  {
   "cell_type": "code",
   "execution_count": 5,
   "id": "d5c114b9-7761-463e-a842-071d37277e66",
   "metadata": {},
   "outputs": [],
   "source": [
    "# Filter pressure by the X-coordinates of interest\n",
    "P_filtered = P[[xi for xi in xCoords.index]]"
   ]
  },
  {
   "cell_type": "code",
   "execution_count": 6,
   "id": "53039936-35d6-4ac7-b291-97cbe1df77e4",
   "metadata": {},
   "outputs": [],
   "source": [
    "# Assemble a dict with the T,X and P\n",
    "fullDict = {\"Time\":T,\"xCoord\":xCoords,\"P\":P_filtered}"
   ]
  },
  {
   "cell_type": "code",
   "execution_count": 7,
   "id": "e407955d-02a3-4e69-aeab-78f0768f6106",
   "metadata": {},
   "outputs": [],
   "source": [
    "# Pickle data\n",
    "fname = \"pickledData_constg/PTX(1).pkl\"\n",
    "with open(fname,'wb') as f: pickle.dump(fullDict,f)"
   ]
  },
  {
   "cell_type": "code",
   "execution_count": 8,
   "id": "762ae1f3-1cfc-4417-97a9-b635c4649246",
   "metadata": {},
   "outputs": [
    {
     "data": {
      "text/plain": [
       "0"
      ]
     },
     "execution_count": 8,
     "metadata": {},
     "output_type": "execute_result"
    }
   ],
   "source": [
    "# Save selected coordinates\n",
    "fname = \"cppCodebits_constg/selectedXYZ.csv\"\n",
    "save_dict = dict(fmt='%10.8f',delimiter=\" \",newline=\" \\n \",\\\n",
    "                 header=\"\",footer=\"\",comments='')\n",
    "\n",
    "np.savetxt(fname,xCoords,**save_dict)\n",
    "system(f\"sed -i 's/^/( /g' {fname}; sed -i 's/$/ )/g' {fname}\")"
   ]
  },
  {
   "cell_type": "code",
   "execution_count": 9,
   "id": "0be06963-565c-4ddf-a372-00f2026fefbf",
   "metadata": {},
   "outputs": [
    {
     "data": {
      "image/png": "[encoded data removed]",
      "text/plain": [
       "<Figure size 432x288 with 1 Axes>"
      ]
     },
     "metadata": {
      "needs_background": "light"
     },
     "output_type": "display_data"
    }
   ],
   "source": [
    "import matplotlib.pyplot as plt\n",
    "plt.plot(xCoords['X'],xCoords['Y'])\n",
    "plt.show()"
   ]
  },
  {
   "cell_type": "code",
   "execution_count": null,
   "id": "23036e1a-e6c8-4e12-bba4-4d086f2363e2",
   "metadata": {},
   "outputs": [],
   "source": []
  }
 ],
 "metadata": {
  "kernelspec": {
   "display_name": "Python 3 (ipykernel)",
   "language": "python",
   "name": "python3"
  },
  "language_info": {
   "codemirror_mode": {
    "name": "ipython",
    "version": 3
   },
   "file_extension": ".py",
   "mimetype": "text/x-python",
   "name": "python",
   "nbconvert_exporter": "python",
   "pygments_lexer": "ipython3",
   "version": "3.8.10"
  }
 },
 "nbformat": 4,
 "nbformat_minor": 5
}
