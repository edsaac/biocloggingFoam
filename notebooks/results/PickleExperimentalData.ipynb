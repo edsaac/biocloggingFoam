{
 "cells": [
  {
   "cell_type": "code",
   "execution_count": 2,
   "id": "eb9a89c5-07da-412f-b48a-eef824c8df8e",
   "metadata": {},
   "outputs": [],
   "source": [
    "import pickle"
   ]
  },
  {
   "cell_type": "code",
   "execution_count": 3,
   "id": "a1115507-8201-40d8-b698-6b28bf8be96c",
   "metadata": {},
   "outputs": [],
   "source": [
    "## Measurements\n",
    "\n",
    "ycores = [-6.9E-3,8.6E-4,7.6E-3,-3.93E-3]\n",
    "FullData = dict(Y=ycores)\n",
    "\n",
    "ccores = [[1.71,0.47],[2.01,0.79],[0.61],[0.99]]\n",
    "scores = [[0.22,0.08],[0.26,0.15],[0.09],[0.06]]\n",
    "\n",
    "FullData['Neutral'] = dict(C=ccores,std=scores)"
   ]
  },
  {
   "cell_type": "code",
   "execution_count": 4,
   "id": "3ae9e433-3db9-4d6b-aa61-b76d506631dd",
   "metadata": {},
   "outputs": [],
   "source": [
    "ccores = [[1.28,0.27],[1.86],[0.92],[1.07,0.31]]\n",
    "scores = [[0.17,0.03],[0.30],[0.38],[0.16,0.09]]\n",
    "\n",
    "FullData['Gaining'] = dict(C=ccores,std=scores)"
   ]
  },
  {
   "cell_type": "code",
   "execution_count": 5,
   "id": "ce7012bf-ffb1-43ca-bf76-67e6371118d7",
   "metadata": {},
   "outputs": [],
   "source": [
    "ccores = [[2.38,0.80,0.38],[2.11,0.77],[1.06],[1.59,0.29]]\n",
    "scores = [[0.15,0.17,0.11],[0.22,0.09],[0.17],[0.16,0.01]]\n",
    "\n",
    "FullData['Losing'] = dict(C=ccores,std=scores)"
   ]
  },
  {
   "cell_type": "code",
   "execution_count": 6,
   "id": "7bb6df36-b9a2-4031-88a9-b1b096cf133e",
   "metadata": {},
   "outputs": [],
   "source": [
    "with open('ExperimentalData.pkl','wb') as f:\n",
    "    pickle.dump(FullData,f)\n"
   ]
  },
  {
   "cell_type": "code",
   "execution_count": null,
   "id": "5363edab-dd4f-4004-8cd9-2ab3825ff07b",
   "metadata": {},
   "outputs": [],
   "source": []
  }
 ],
 "metadata": {
  "kernelspec": {
   "display_name": "Python 3 (ipykernel)",
   "language": "python",
   "name": "python3"
  },
  "language_info": {
   "codemirror_mode": {
    "name": "ipython",
    "version": 3
   },
   "file_extension": ".py",
   "mimetype": "text/x-python",
   "name": "python",
   "nbconvert_exporter": "python",
   "pygments_lexer": "ipython3",
   "version": "3.8.10"
  }
 },
 "nbformat": 4,
 "nbformat_minor": 5
}
